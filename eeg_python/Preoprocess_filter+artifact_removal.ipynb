{
 "cells": [
  {
   "cell_type": "code",
   "execution_count": 1,
   "metadata": {},
   "outputs": [
    {
     "name": "stderr",
     "output_type": "stream",
     "text": [
      "\n",
      "Bad key \"text.kerning_factor\" on line 4 in\n",
      "/Users/Qianqian/anaconda3/envs/ml/lib/python3.8/site-packages/matplotlib/mpl-data/stylelib/_classic_test_patch.mplstyle.\n",
      "You probably need to get an updated matplotlibrc file from\n",
      "https://github.com/matplotlib/matplotlib/blob/v3.1.2/matplotlibrc.template\n",
      "or from the matplotlib source distribution\n"
     ]
    }
   ],
   "source": [
    "from os import listdir\n",
    "from os.path import join, isdir\n",
    "\n",
    "import numpy as np\n",
    "from scipy.io import loadmat\n",
    "\n",
    "import matplotlib.pyplot as plt\n",
    "import pandas as pd\n",
    "import mne\n",
    "from mne.preprocessing import (ICA, create_eog_epochs, create_ecg_epochs,\n",
    "                               corrmap)\n",
    "\n",
    "\n",
    "path_to_raw_eeg = '../../converted_data'\n",
    "path_to_figures = './figures'"
   ]
  },
  {
   "cell_type": "code",
   "execution_count": 4,
   "metadata": {},
   "outputs": [
    {
     "name": "stdout",
     "output_type": "stream",
     "text": [
      "2\n",
      "\n",
      "\n",
      "\n",
      "participant 2 encountered a problem: A very specific bad thing happened.\n",
      "\n",
      "\n",
      "\n",
      "\n"
     ]
    }
   ],
   "source": [
    "eeg_filename = 'eeg.mat'\n",
    "feeltrace_filename = 'feeltrace.mat'\n",
    "eeg_mat = [join(path_to_raw_eeg, f, eeg_filename) for f in listdir(path_to_raw_eeg) if isdir(f) and f[0] != '.']\n",
    "montage = mne.channels.make_standard_montage('GSN-HydroCel-65_1.0')\n",
    "\n",
    "for f in listdir(path_to_raw_eeg):\n",
    "    if isdir(join(path_to_raw_eeg, f)) and f[0] != '.':\n",
    "        try:\n",
    "            pnum = f[:] # string\n",
    "            print(pnum)\n",
    "\n",
    "        #         load eeg mat file\n",
    "            eeg_mat = join(path_to_raw_eeg, f, eeg_filename)\n",
    "            eeg = loadmat(eeg_mat)\n",
    "            eeg = eeg['eeg']\n",
    "\n",
    "        #         create mne channel info\n",
    "            channel_names = [ 'E' + str(i+1) for i in range(64)] + ['Cz']\n",
    "            sampling_rate = 1000\n",
    "            ch_types = 'eeg'\n",
    "            info = mne.create_info(channel_names, sampling_rate, ch_types)\n",
    "\n",
    "        #         load eeg into mne package\n",
    "            raw = mne.io.RawArray(eeg.transpose()/(10 ** 6), info)\n",
    "            raw.set_montage(montage)\n",
    "            raw.set_channel_types({'E62': 'eog'})\n",
    "            raw.drop_channels('Cz')\n",
    "            \n",
    "        #         filter eeg\n",
    "            raw.notch_filter(np.arange(60, 301, 60), filter_length='auto',phase='zero')\n",
    "            raw.filter(1, 250, picks=['eeg'])\n",
    "\n",
    "        #         load feeltrace data\n",
    "            feeltrace_mat = join(path_to_raw_eeg, f, feeltrace_filename)\n",
    "            feeltrace = loadmat(feeltrace_mat)\n",
    "            feeltrace = feeltrace['feeltrace']\n",
    "            timestamps = feeltrace[:,0] / 1000 # in sec\n",
    "\n",
    "            # crop eeg and filter\n",
    "            trial_data = raw.copy().crop(max(0, timestamps[0]), min((raw.n_times - 1) / 1000, timestamps[-1]))\n",
    "            print(trial_data.info)\n",
    "\n",
    "            # EOG artifact removal through ICA\n",
    "            eog_epochs = mne.preprocessing.create_eog_epochs(trial_data, baseline=(-0.5, -0.2))\n",
    "\n",
    "            fig = eog_epochs.average().plot_joint()\n",
    "            fig.savefig(join(path_to_figures, 'eog', 'epoch_average_E62', 'p' + pnum + '.png'))\n",
    "\n",
    "            ica = ICA(n_components=15)\n",
    "            ica.fit(trial_data)\n",
    "            ica.plot_components(show=False)\n",
    "            plt.savefig(join(path_to_figures, 'eog', 'ica_components', 'p' + pnum + '.png'))\n",
    "            plt.close(None)\n",
    "\n",
    "\n",
    "        #             repaired = raw.copy()\n",
    "            eog_indices, eog_scores = ica.find_bads_eog(trial_data, ch_name='E62', measure='correlation', threshold=0.5)\n",
    "            ica.exclude = eog_indices\n",
    "            ica.plot_scores(eog_scores, show=False)\n",
    "            plt.savefig(join(path_to_figures, 'eog', 'ica_component_scores', 'p' + pnum + '.png'))\n",
    "            print(eog_indices)\n",
    "            ica.apply(raw)\n",
    "            \n",
    "            np.savetxt(join('data', 'filtered_eeg', 'p' + pnum + '_eeg.csv'), raw.get_data().transpose())   \n",
    "            \n",
    "        except Exception as e:\n",
    "            print('\\n\\n\\nparticipant', pnum, \"encountered a problem:\", e)\n",
    "            print('\\n\\n\\n')\n",
    "            continue"
   ]
  },
  {
   "cell_type": "code",
   "execution_count": null,
   "metadata": {},
   "outputs": [],
   "source": []
  }
 ],
 "metadata": {
  "kernelspec": {
   "display_name": "Python 3",
   "language": "python",
   "name": "python3"
  },
  "language_info": {
   "codemirror_mode": {
    "name": "ipython",
    "version": 3
   },
   "file_extension": ".py",
   "mimetype": "text/x-python",
   "name": "python",
   "nbconvert_exporter": "python",
   "pygments_lexer": "ipython3",
   "version": "3.8.2"
  }
 },
 "nbformat": 4,
 "nbformat_minor": 4
}
