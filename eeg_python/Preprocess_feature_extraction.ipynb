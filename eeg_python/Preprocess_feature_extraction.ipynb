{
 "cells": [
  {
   "cell_type": "code",
   "execution_count": 1,
   "metadata": {},
   "outputs": [
    {
     "name": "stderr",
     "output_type": "stream",
     "text": [
      "\n",
      "Bad key \"text.kerning_factor\" on line 4 in\n",
      "/Users/Qianqian/anaconda3/envs/ml/lib/python3.8/site-packages/matplotlib/mpl-data/stylelib/_classic_test_patch.mplstyle.\n",
      "You probably need to get an updated matplotlibrc file from\n",
      "https://github.com/matplotlib/matplotlib/blob/v3.1.2/matplotlibrc.template\n",
      "or from the matplotlib source distribution\n"
     ]
    }
   ],
   "source": [
    "from os import listdir\n",
    "from os.path import join, isdir\n",
    "\n",
    "import numpy as np\n",
    "from scipy.io import loadmat\n",
    "from scipy import signal\n",
    "\n",
    "import matplotlib.pyplot as plt\n",
    "import pandas as pd\n",
    "import mne\n",
    "import mne_features\n",
    "\n",
    "\n",
    "path_to_eeg = 'data/filtered_eeg'\n",
    "path_to_feeltrace = '../../converted_data'\n",
    "path_to_figures = './figures'"
   ]
  },
  {
   "cell_type": "code",
   "execution_count": 2,
   "metadata": {},
   "outputs": [],
   "source": [
    "eeg_data = pd.read_csv(join(path_to_eeg, 'p2_eeg.csv'), delimiter=' ', header=None) * (10 ** 6) # turns Volts to microVolts"
   ]
  },
  {
   "cell_type": "code",
   "execution_count": 3,
   "metadata": {},
   "outputs": [
    {
     "data": {
      "text/html": [
       "<div>\n",
       "<style scoped>\n",
       "    .dataframe tbody tr th:only-of-type {\n",
       "        vertical-align: middle;\n",
       "    }\n",
       "\n",
       "    .dataframe tbody tr th {\n",
       "        vertical-align: top;\n",
       "    }\n",
       "\n",
       "    .dataframe thead th {\n",
       "        text-align: right;\n",
       "    }\n",
       "</style>\n",
       "<table border=\"1\" class=\"dataframe\">\n",
       "  <thead>\n",
       "    <tr style=\"text-align: right;\">\n",
       "      <th></th>\n",
       "      <th>E1</th>\n",
       "      <th>E2</th>\n",
       "      <th>E3</th>\n",
       "      <th>E4</th>\n",
       "      <th>E5</th>\n",
       "      <th>E6</th>\n",
       "      <th>E7</th>\n",
       "      <th>E8</th>\n",
       "      <th>E9</th>\n",
       "      <th>E10</th>\n",
       "      <th>...</th>\n",
       "      <th>E55</th>\n",
       "      <th>E56</th>\n",
       "      <th>E57</th>\n",
       "      <th>E58</th>\n",
       "      <th>E59</th>\n",
       "      <th>E60</th>\n",
       "      <th>E61</th>\n",
       "      <th>E62</th>\n",
       "      <th>E63</th>\n",
       "      <th>E64</th>\n",
       "    </tr>\n",
       "  </thead>\n",
       "  <tbody>\n",
       "    <tr>\n",
       "      <th>0</th>\n",
       "      <td>0.179732</td>\n",
       "      <td>0.065074</td>\n",
       "      <td>0.030289</td>\n",
       "      <td>0.003901</td>\n",
       "      <td>0.057602</td>\n",
       "      <td>0.001899</td>\n",
       "      <td>-0.004928</td>\n",
       "      <td>-0.004454</td>\n",
       "      <td>-0.024681</td>\n",
       "      <td>-0.046489</td>\n",
       "      <td>...</td>\n",
       "      <td>0.067596</td>\n",
       "      <td>0.076107</td>\n",
       "      <td>0.058595</td>\n",
       "      <td>0.110581</td>\n",
       "      <td>0.092793</td>\n",
       "      <td>0.061158</td>\n",
       "      <td>0.115845</td>\n",
       "      <td>1147.051514</td>\n",
       "      <td>-0.112211</td>\n",
       "      <td>-0.103276</td>\n",
       "    </tr>\n",
       "    <tr>\n",
       "      <th>1</th>\n",
       "      <td>-6.132051</td>\n",
       "      <td>0.670771</td>\n",
       "      <td>-2.761284</td>\n",
       "      <td>-1.055322</td>\n",
       "      <td>-9.865631</td>\n",
       "      <td>-1.090376</td>\n",
       "      <td>-0.555795</td>\n",
       "      <td>-4.029478</td>\n",
       "      <td>-5.769555</td>\n",
       "      <td>-4.791678</td>\n",
       "      <td>...</td>\n",
       "      <td>-18.779365</td>\n",
       "      <td>39.557926</td>\n",
       "      <td>0.879194</td>\n",
       "      <td>-0.370174</td>\n",
       "      <td>0.257754</td>\n",
       "      <td>-3.169993</td>\n",
       "      <td>-9.031759</td>\n",
       "      <td>1133.590088</td>\n",
       "      <td>-21.687657</td>\n",
       "      <td>-37.337292</td>\n",
       "    </tr>\n",
       "    <tr>\n",
       "      <th>2</th>\n",
       "      <td>1.280076</td>\n",
       "      <td>-4.499682</td>\n",
       "      <td>-2.155355</td>\n",
       "      <td>-0.401223</td>\n",
       "      <td>-8.609895</td>\n",
       "      <td>-0.460729</td>\n",
       "      <td>-1.732360</td>\n",
       "      <td>-1.032533</td>\n",
       "      <td>-4.306031</td>\n",
       "      <td>2.089714</td>\n",
       "      <td>...</td>\n",
       "      <td>-17.934496</td>\n",
       "      <td>35.862657</td>\n",
       "      <td>-3.738197</td>\n",
       "      <td>2.354134</td>\n",
       "      <td>-4.216640</td>\n",
       "      <td>-5.557793</td>\n",
       "      <td>1.336699</td>\n",
       "      <td>1148.293945</td>\n",
       "      <td>-9.262737</td>\n",
       "      <td>-16.985092</td>\n",
       "    </tr>\n",
       "    <tr>\n",
       "      <th>3</th>\n",
       "      <td>11.820108</td>\n",
       "      <td>-5.516768</td>\n",
       "      <td>3.092208</td>\n",
       "      <td>1.549488</td>\n",
       "      <td>5.643187</td>\n",
       "      <td>3.366087</td>\n",
       "      <td>-1.535483</td>\n",
       "      <td>7.154361</td>\n",
       "      <td>2.796095</td>\n",
       "      <td>12.238207</td>\n",
       "      <td>...</td>\n",
       "      <td>-9.884297</td>\n",
       "      <td>16.474453</td>\n",
       "      <td>-5.556681</td>\n",
       "      <td>5.714160</td>\n",
       "      <td>-3.808140</td>\n",
       "      <td>-1.230510</td>\n",
       "      <td>16.760243</td>\n",
       "      <td>1154.135010</td>\n",
       "      <td>19.259088</td>\n",
       "      <td>23.857678</td>\n",
       "    </tr>\n",
       "    <tr>\n",
       "      <th>4</th>\n",
       "      <td>11.740342</td>\n",
       "      <td>0.862238</td>\n",
       "      <td>7.380148</td>\n",
       "      <td>2.651538</td>\n",
       "      <td>19.751407</td>\n",
       "      <td>7.422562</td>\n",
       "      <td>0.369148</td>\n",
       "      <td>11.719790</td>\n",
       "      <td>8.058740</td>\n",
       "      <td>13.527387</td>\n",
       "      <td>...</td>\n",
       "      <td>-13.835699</td>\n",
       "      <td>20.703956</td>\n",
       "      <td>-1.567214</td>\n",
       "      <td>5.584076</td>\n",
       "      <td>2.607691</td>\n",
       "      <td>6.263791</td>\n",
       "      <td>14.826589</td>\n",
       "      <td>1148.333740</td>\n",
       "      <td>27.515822</td>\n",
       "      <td>24.718287</td>\n",
       "    </tr>\n",
       "    <tr>\n",
       "      <th>...</th>\n",
       "      <td>...</td>\n",
       "      <td>...</td>\n",
       "      <td>...</td>\n",
       "      <td>...</td>\n",
       "      <td>...</td>\n",
       "      <td>...</td>\n",
       "      <td>...</td>\n",
       "      <td>...</td>\n",
       "      <td>...</td>\n",
       "      <td>...</td>\n",
       "      <td>...</td>\n",
       "      <td>...</td>\n",
       "      <td>...</td>\n",
       "      <td>...</td>\n",
       "      <td>...</td>\n",
       "      <td>...</td>\n",
       "      <td>...</td>\n",
       "      <td>...</td>\n",
       "      <td>...</td>\n",
       "      <td>...</td>\n",
       "      <td>...</td>\n",
       "    </tr>\n",
       "    <tr>\n",
       "      <th>732541</th>\n",
       "      <td>47.057331</td>\n",
       "      <td>40.624234</td>\n",
       "      <td>19.106483</td>\n",
       "      <td>-1.099108</td>\n",
       "      <td>37.444936</td>\n",
       "      <td>16.576743</td>\n",
       "      <td>4.779512</td>\n",
       "      <td>78.446582</td>\n",
       "      <td>4.393306</td>\n",
       "      <td>68.954169</td>\n",
       "      <td>...</td>\n",
       "      <td>-41.176716</td>\n",
       "      <td>47.314139</td>\n",
       "      <td>50.499185</td>\n",
       "      <td>6.924077</td>\n",
       "      <td>8.303565</td>\n",
       "      <td>39.553783</td>\n",
       "      <td>10.274775</td>\n",
       "      <td>0.000000</td>\n",
       "      <td>-12.087234</td>\n",
       "      <td>1.226565</td>\n",
       "    </tr>\n",
       "    <tr>\n",
       "      <th>732542</th>\n",
       "      <td>41.793447</td>\n",
       "      <td>36.063837</td>\n",
       "      <td>16.977209</td>\n",
       "      <td>-0.981867</td>\n",
       "      <td>33.182679</td>\n",
       "      <td>14.687559</td>\n",
       "      <td>4.220308</td>\n",
       "      <td>69.640737</td>\n",
       "      <td>3.882470</td>\n",
       "      <td>61.212922</td>\n",
       "      <td>...</td>\n",
       "      <td>-37.045934</td>\n",
       "      <td>42.011881</td>\n",
       "      <td>44.857290</td>\n",
       "      <td>6.176193</td>\n",
       "      <td>7.430800</td>\n",
       "      <td>35.171887</td>\n",
       "      <td>9.107011</td>\n",
       "      <td>0.000000</td>\n",
       "      <td>-10.862250</td>\n",
       "      <td>0.924769</td>\n",
       "    </tr>\n",
       "    <tr>\n",
       "      <th>732543</th>\n",
       "      <td>31.280899</td>\n",
       "      <td>26.966775</td>\n",
       "      <td>12.701681</td>\n",
       "      <td>-0.735720</td>\n",
       "      <td>24.786478</td>\n",
       "      <td>10.965431</td>\n",
       "      <td>3.143403</td>\n",
       "      <td>52.048350</td>\n",
       "      <td>2.889046</td>\n",
       "      <td>45.740515</td>\n",
       "      <td>...</td>\n",
       "      <td>-27.890494</td>\n",
       "      <td>31.419431</td>\n",
       "      <td>33.550018</td>\n",
       "      <td>4.651781</td>\n",
       "      <td>5.598820</td>\n",
       "      <td>26.325696</td>\n",
       "      <td>6.823546</td>\n",
       "      <td>0.000000</td>\n",
       "      <td>-8.199597</td>\n",
       "      <td>0.597596</td>\n",
       "    </tr>\n",
       "    <tr>\n",
       "      <th>732544</th>\n",
       "      <td>16.797827</td>\n",
       "      <td>14.438322</td>\n",
       "      <td>6.802542</td>\n",
       "      <td>-0.392103</td>\n",
       "      <td>13.262860</td>\n",
       "      <td>5.856531</td>\n",
       "      <td>1.674633</td>\n",
       "      <td>27.809045</td>\n",
       "      <td>1.530386</td>\n",
       "      <td>24.419476</td>\n",
       "      <td>...</td>\n",
       "      <td>-14.933635</td>\n",
       "      <td>16.824214</td>\n",
       "      <td>17.956743</td>\n",
       "      <td>2.539383</td>\n",
       "      <td>3.041026</td>\n",
       "      <td>14.101730</td>\n",
       "      <td>3.696427</td>\n",
       "      <td>0.000000</td>\n",
       "      <td>-4.448769</td>\n",
       "      <td>0.251790</td>\n",
       "    </tr>\n",
       "    <tr>\n",
       "      <th>732545</th>\n",
       "      <td>0.179732</td>\n",
       "      <td>0.065074</td>\n",
       "      <td>0.030289</td>\n",
       "      <td>0.003901</td>\n",
       "      <td>0.057602</td>\n",
       "      <td>0.001899</td>\n",
       "      <td>-0.004928</td>\n",
       "      <td>-0.004454</td>\n",
       "      <td>-0.024681</td>\n",
       "      <td>-0.046489</td>\n",
       "      <td>...</td>\n",
       "      <td>0.067596</td>\n",
       "      <td>0.076107</td>\n",
       "      <td>0.058595</td>\n",
       "      <td>0.110581</td>\n",
       "      <td>0.092793</td>\n",
       "      <td>0.061158</td>\n",
       "      <td>0.115845</td>\n",
       "      <td>0.000000</td>\n",
       "      <td>-0.112211</td>\n",
       "      <td>-0.103276</td>\n",
       "    </tr>\n",
       "  </tbody>\n",
       "</table>\n",
       "<p>732546 rows × 64 columns</p>\n",
       "</div>"
      ],
      "text/plain": [
       "               E1         E2         E3        E4         E5         E6  \\\n",
       "0        0.179732   0.065074   0.030289  0.003901   0.057602   0.001899   \n",
       "1       -6.132051   0.670771  -2.761284 -1.055322  -9.865631  -1.090376   \n",
       "2        1.280076  -4.499682  -2.155355 -0.401223  -8.609895  -0.460729   \n",
       "3       11.820108  -5.516768   3.092208  1.549488   5.643187   3.366087   \n",
       "4       11.740342   0.862238   7.380148  2.651538  19.751407   7.422562   \n",
       "...           ...        ...        ...       ...        ...        ...   \n",
       "732541  47.057331  40.624234  19.106483 -1.099108  37.444936  16.576743   \n",
       "732542  41.793447  36.063837  16.977209 -0.981867  33.182679  14.687559   \n",
       "732543  31.280899  26.966775  12.701681 -0.735720  24.786478  10.965431   \n",
       "732544  16.797827  14.438322   6.802542 -0.392103  13.262860   5.856531   \n",
       "732545   0.179732   0.065074   0.030289  0.003901   0.057602   0.001899   \n",
       "\n",
       "              E7         E8        E9        E10  ...        E55        E56  \\\n",
       "0      -0.004928  -0.004454 -0.024681  -0.046489  ...   0.067596   0.076107   \n",
       "1      -0.555795  -4.029478 -5.769555  -4.791678  ... -18.779365  39.557926   \n",
       "2      -1.732360  -1.032533 -4.306031   2.089714  ... -17.934496  35.862657   \n",
       "3      -1.535483   7.154361  2.796095  12.238207  ...  -9.884297  16.474453   \n",
       "4       0.369148  11.719790  8.058740  13.527387  ... -13.835699  20.703956   \n",
       "...          ...        ...       ...        ...  ...        ...        ...   \n",
       "732541  4.779512  78.446582  4.393306  68.954169  ... -41.176716  47.314139   \n",
       "732542  4.220308  69.640737  3.882470  61.212922  ... -37.045934  42.011881   \n",
       "732543  3.143403  52.048350  2.889046  45.740515  ... -27.890494  31.419431   \n",
       "732544  1.674633  27.809045  1.530386  24.419476  ... -14.933635  16.824214   \n",
       "732545 -0.004928  -0.004454 -0.024681  -0.046489  ...   0.067596   0.076107   \n",
       "\n",
       "              E57       E58       E59        E60        E61          E62  \\\n",
       "0        0.058595  0.110581  0.092793   0.061158   0.115845  1147.051514   \n",
       "1        0.879194 -0.370174  0.257754  -3.169993  -9.031759  1133.590088   \n",
       "2       -3.738197  2.354134 -4.216640  -5.557793   1.336699  1148.293945   \n",
       "3       -5.556681  5.714160 -3.808140  -1.230510  16.760243  1154.135010   \n",
       "4       -1.567214  5.584076  2.607691   6.263791  14.826589  1148.333740   \n",
       "...           ...       ...       ...        ...        ...          ...   \n",
       "732541  50.499185  6.924077  8.303565  39.553783  10.274775     0.000000   \n",
       "732542  44.857290  6.176193  7.430800  35.171887   9.107011     0.000000   \n",
       "732543  33.550018  4.651781  5.598820  26.325696   6.823546     0.000000   \n",
       "732544  17.956743  2.539383  3.041026  14.101730   3.696427     0.000000   \n",
       "732545   0.058595  0.110581  0.092793   0.061158   0.115845     0.000000   \n",
       "\n",
       "              E63        E64  \n",
       "0       -0.112211  -0.103276  \n",
       "1      -21.687657 -37.337292  \n",
       "2       -9.262737 -16.985092  \n",
       "3       19.259088  23.857678  \n",
       "4       27.515822  24.718287  \n",
       "...           ...        ...  \n",
       "732541 -12.087234   1.226565  \n",
       "732542 -10.862250   0.924769  \n",
       "732543  -8.199597   0.597596  \n",
       "732544  -4.448769   0.251790  \n",
       "732545  -0.112211  -0.103276  \n",
       "\n",
       "[732546 rows x 64 columns]"
      ]
     },
     "execution_count": 3,
     "metadata": {},
     "output_type": "execute_result"
    }
   ],
   "source": [
    "eeg_data.columns = ['E'+ str(i+1) for i in range(64)]\n",
    "eeg_data"
   ]
  },
  {
   "cell_type": "code",
   "execution_count": 4,
   "metadata": {},
   "outputs": [
    {
     "data": {
      "text/plain": [
       "(732546, 64)"
      ]
     },
     "execution_count": 4,
     "metadata": {},
     "output_type": "execute_result"
    }
   ],
   "source": [
    "eeg_data = eeg_data.to_numpy()\n",
    "eeg_data.shape"
   ]
  },
  {
   "cell_type": "code",
   "execution_count": 5,
   "metadata": {},
   "outputs": [],
   "source": [
    "feeltrace_mat = join(path_to_feeltrace, '2', 'feeltrace.mat')\n",
    "feeltrace = loadmat(feeltrace_mat)\n",
    "feeltrace = feeltrace['feeltrace']\n",
    "timestamps = feeltrace[:,0]"
   ]
  },
  {
   "cell_type": "code",
   "execution_count": 6,
   "metadata": {},
   "outputs": [],
   "source": [
    "p2_feeltrace = feeltrace\n",
    "new_timestamp = np.arange(p2_feeltrace[0,0], p2_feeltrace[-1,0], 1000)\n",
    "p2_feeltrace_even = np.interp(new_timestamp, p2_feeltrace[:,0], p2_feeltrace[:,1])\n",
    "p2_feeltrace_slope = np.diff(p2_feeltrace_even)\n",
    "np.save('data_label.npy', p2_feeltrace_slope)"
   ]
  },
  {
   "cell_type": "code",
   "execution_count": 7,
   "metadata": {},
   "outputs": [
    {
     "data": {
      "text/plain": [
       "(614,)"
      ]
     },
     "execution_count": 7,
     "metadata": {},
     "output_type": "execute_result"
    }
   ],
   "source": [
    "p2_feeltrace_slope.shape"
   ]
  },
  {
   "cell_type": "code",
   "execution_count": 8,
   "metadata": {},
   "outputs": [],
   "source": [
    "sfreq = 1000\n",
    "num_channels = 64\n",
    "\n",
    "tmin = int(timestamps[0])\n",
    "tmax = int(timestamps[-1])\n",
    "\n",
    "eeg = eeg_data[tmin:tmax, :]\n",
    "num_second = eeg.shape[0] // sfreq\n",
    "eeg = eeg[:num_second * sfreq, :]\n",
    "eeg = eeg.reshape((num_second, sfreq, num_channels))"
   ]
  },
  {
   "cell_type": "code",
   "execution_count": 9,
   "metadata": {},
   "outputs": [
    {
     "data": {
      "text/plain": [
       "(614, 1000, 64)"
      ]
     },
     "execution_count": 9,
     "metadata": {},
     "output_type": "execute_result"
    }
   ],
   "source": [
    "eeg.shape"
   ]
  },
  {
   "cell_type": "code",
   "execution_count": 10,
   "metadata": {},
   "outputs": [],
   "source": [
    "gamma_channels_index = [20, 25, 26, 27, 45]\n",
    "gamma_channels_names = [\"CP1(21)\", \"CP5(26)\", \"P5(27)\", \"P3(28)\", \"CP6(46)\"]\n",
    "\n",
    "beta_channels_index = [50, 31, 59, 25]\n",
    "beta_channels_names = [\"C2(51)\", \"P9(32)\", \"F7(60)\", \"CP5(26)\"]\n",
    "\n",
    "df_channels_index = [31, 26, 29, 30, 53]\n",
    "df_channels_names = [\"P9(32)\", \"P5(27)\", \"P7(30)\", \"P1(31)\", \"FC2(54)\"]"
   ]
  },
  {
   "cell_type": "markdown",
   "metadata": {},
   "source": [
    "https://ieeexplore.ieee.org/mediastore_new/IEEE/content/media/5165369/6933964/6858031/jenke1-2339834-large.gif"
   ]
  },
  {
   "cell_type": "code",
   "execution_count": 11,
   "metadata": {},
   "outputs": [],
   "source": [
    "def compute_metric(X, metric, axis=None):\n",
    "    if metric == \"mean\":\n",
    "        return np.mean(X, axis=axis)\n",
    "    elif metric == \"min\":\n",
    "        return np.min(X, axis=axis)\n",
    "    elif metric == \"max\":\n",
    "        return np.max(X, axis=axis)\n",
    "    elif metric == \"var\":\n",
    "        return np.var(X, axis=axis)\n",
    "        \n",
    "def compute_gamma(X):\n",
    "#     gamma_channels_index = np.arange(64)\n",
    "#     gamma_channels_names = [\"E\" + str(i+1) for i in gamma_channels_index]\n",
    "    lo, hi = 30, 64\n",
    "    metrics = [\"mean\", \"min\", \"max\", \"var\"]\n",
    "    \n",
    "    feature_names = []\n",
    "    values = np.array(())\n",
    "    X_fft = np.fft.fft(X[:, gamma_channels_index], axis=0)\n",
    "    freqs = np.fft.fftfreq(sfreq, d=1/sfreq)\n",
    "    X_gamma_fft = X_fft[np.logical_and(np.abs(freqs) > lo, np.abs(freqs) < hi)]\n",
    "    \n",
    "    for m in metrics:\n",
    "        feature_names += map(lambda name: name + \"_gamma_fft_\" + m, gamma_channels_names)\n",
    "        values = np.append(values, np.abs(compute_metric(X_gamma_fft, m, 0))) # append the magnitude of fft band\n",
    "              \n",
    "    return feature_names, values\n",
    "\n",
    "def compute_beta(X):\n",
    "#     beta_channels_index = np.arange(64)\n",
    "#     beta_channels_names = [\"E\" + str(i+1) for i in gamma_channels_index]\n",
    "    lo, hi = 12, 30\n",
    "    metrics = [\"mean\", \"min\", \"max\", \"var\"]\n",
    "    \n",
    "    feature_names = []\n",
    "    values = np.array(())\n",
    "    X_fft = np.fft.fft(X[:, beta_channels_index], axis=0)\n",
    "    freqs = np.fft.fftfreq(sfreq, d=1/sfreq)\n",
    "    X_beta_fft = X_fft[np.logical_and(np.abs(freqs) > lo, np.abs(freqs) < hi)]\n",
    "\n",
    "    for m in metrics:\n",
    "        feature_names += map(lambda name: name + \"_beta_fft_\" + m, beta_channels_names)\n",
    "        values = np.append(values, np.abs(compute_metric(X_beta_fft, m, 0))) # append the magnitude of fft band\n",
    "              \n",
    "    return feature_names, values\n",
    "\n",
    "def compute_first_difference(X):\n",
    "    df_channels_index = [31, 26, 29, 30, 53]\n",
    "    df_channels_names = [\"P9(32)\", \"P5(27)\", \"P7(30)\", \"P1(31)\", \"FC2(54)\"]\n",
    "    feature_names = [cname + \"_first_difference\" for cname in df_channels_names]\n",
    "    return feature_names, np.mean(np.abs(np.diff(X[:, df_channels_index], axis=0)), axis=0)\n",
    "\n",
    "\"\"\"\n",
    "4 freq band pairs: \n",
    "    beta-beta, alpha-gamma, beta-gamma, gamma-gamma\n",
    "4 stats per pair:\n",
    "    sum of the bispectrum magnitudes\n",
    "    sum of the squares of the bispectrum magnitudes\n",
    "    sum of the bicoherence magnitudes\n",
    "    sum of the squares of the bicoherence magnitudes\n",
    "2 channels:\n",
    "    C2(51), FC2(54)\n",
    "===> 4 * 4 * 2 = 32 features\n",
    "\"\"\"\n",
    "def compute_bicoherence_band(X):\n",
    "    bic_channels_index = [50, 53]\n",
    "    bic_channels_names = [\"C2(51)\", \"FC2(54)\"]\n",
    "    metrics = [\"sum_bis_magnitudes\", \"sum_of_sq_bis_magnitudes\", \"sum_bic_magnitudes\", \"sum_of_sq_bic_magnitudes\"]\n",
    "    band_pairs = [\"beta-beta\", \"alpha-gamma\", \"beta-gamma\", \"gamma-gamma\"]\n",
    "    feature_names = []\n",
    "    values = np.array(())\n",
    "    \n",
    "    def butter_bandpass(lowcut, highcut, fs, order=5):\n",
    "        nyq = 0.5 * fs\n",
    "        low = lowcut / nyq\n",
    "        high = highcut / nyq\n",
    "        b, a = signal.butter(order, [low, high], btype='band')\n",
    "        return b, a\n",
    "    \n",
    "    def butter_bandpass_filter(data, lowcut, highcut, fs, order=5):\n",
    "        b, a = butter_bandpass(lowcut, highcut, fs, order=order)\n",
    "        y = signal.lfilter(b, a, data)\n",
    "        return y\n",
    "    \n",
    "    for i in range(len(bic_channels_index)):\n",
    "        sig = X[:, bic_channels_index[i]]\n",
    "        sig_alpha = butter_bandpass_filter(sig, 8, 12, sfreq)\n",
    "        sig_beta = butter_bandpass_filter(sig, 12, 30, sfreq)\n",
    "        sig_gamma = butter_bandpass_filter(sig, 30, 64, sfreq)\n",
    "        \n",
    "        for pair in band_pairs:\n",
    "            if pair == \"beta-beta\":\n",
    "                f, bic, bis = compute_bicoherence(sig_beta, sig_beta, sfreq)\n",
    "            elif pair == \"alpha-gamma\":\n",
    "                f, bic, bis = compute_bicoherence(sig_alpha, sig_gamma, sfreq)\n",
    "            elif pair == \"beta-gamma\":\n",
    "                f, bic, bis = compute_bicoherence(sig_beta, sig_gamma, sfreq)\n",
    "            elif pair == \"gamma-gamma\":\n",
    "                f, bic, bis = compute_bicoherence(sig_gamma, sig_gamma, sfreq)\n",
    "                \n",
    "            feature_names += [bic_channels_names[i] + \"_\" + pair + \"_\" + m for m in metrics]\n",
    "            values = np.append(values, np.sum(bis))\n",
    "            values = np.append(values, np.sum(np.square(bis)))\n",
    "            values = np.append(values, np.sum(bic))\n",
    "            values = np.append(values, np.sum(np.square(bic)))\n",
    "            \n",
    "    return feature_names, values\n",
    "\n",
    "def compute_bicoherence(s1, s2, rate, nperseg=sfreq, noverlap=sfreq/2):\n",
    "    \"\"\" Compute the bicoherence between two signals of the same lengths s1 and s2\n",
    "    using the function scipy.signal.spectrogram\n",
    "    https://stackoverflow.com/questions/4194554/function-for-computing-bicoherence\n",
    "    \"\"\"\n",
    "    # compute the stft\n",
    "    f1, t1, spec_s1 = signal.spectrogram(s1, fs = rate, nperseg = nperseg, noverlap = noverlap, mode = 'complex',)\n",
    "    f2, t2, spec_s2 = signal.spectrogram(s2, fs = rate, nperseg = nperseg, noverlap = noverlap, mode = 'complex')\n",
    "\n",
    "    # transpose (f, t) -> (t, f)\n",
    "    spec_s1 = np.transpose(spec_s1, [1, 0])\n",
    "    spec_s2 = np.transpose(spec_s2, [1, 0])\n",
    "\n",
    "    # compute the bicoherence\n",
    "    arg = np.arange(f1.size / 2).astype('int')\n",
    "    sumarg = arg[:, None] + arg[None, :]\n",
    "    bis = np.abs(\n",
    "        np.mean(spec_s1[:, arg, None] * spec_s1[:, None, arg] * np.conjugate(spec_s2[:, sumarg]), \n",
    "        axis = 0)\n",
    "        ) ** 2\n",
    "    denum = np.mean(\n",
    "        np.abs(spec_s1[:, arg, None] * spec_s1[:, None, arg]) ** 2, axis = 0) * np.mean(\n",
    "            np.abs(np.conjugate(spec_s2[:, sumarg])) ** 2, \n",
    "            axis = 0)\n",
    "    bic = bis / denum\n",
    "    print(bic[:4, :4])\n",
    "    return f1[arg], bic, bis\n",
    "\n",
    "def compute_hjorth(X):\n",
    "    hjorth_channels_index = [20, 26, 30, 40]\n",
    "    hjorth_channels_names = [\"CP1(21)\", \"P5(27)\", \"P1(31)\", \"CP2(41)\"]\n",
    "    metrics = [\"mobility\", \"complexity\"]\n",
    "    \n",
    "    data = X[:, hjorth_channels_index].T\n",
    "    \n",
    "    feature_names = [i + \"_hjorth_\" + metrics[0] for i in hjorth_channels_names] + [i + \"_hjorth_\" + metrics[1] for i in hjorth_channels_names]\n",
    "    values = np.append(mne_features.univariate.compute_hjorth_mobility(data), mne_features.univariate.compute_hjorth_complexity(data))\n",
    "    \n",
    "    return feature_names, values\n",
    "\n",
    "def compute_fractal_dimension(X):\n",
    "    fd_channels_index = [20, 26, 30, 40]\n",
    "    fd_channels_names = [\"CP1(21)\", \"P5(27)\", \"P1(31)\", \"CP2(41)\"]\n",
    "    \n",
    "    data = X[:, fd_channels_index].T\n",
    "    feature_names = [i + \"_fractal_dimension\" for i in fd_channels_names]\n",
    "    return feature_names, mne_features.univariate.compute_higuchi_fd(data)\n",
    "\n",
    "def compute_HOC(X, n=10):\n",
    "    HOC_channels_index = [20, 40, 51, 42]\n",
    "    HOC_channels_names = [\"CP1(21)\", \"CP2(41)\", \"T8(52)\", \"P10(43)\"]\n",
    "    \n",
    "    data = X[:, HOC_channels_index].T\n",
    "    feature_names = []\n",
    "    values = np.array(())\n",
    "    for i in range(n):\n",
    "        feature_names += [channel_name + \"_\" + str(i) + \"_order_crossing\" for channel_name in HOC_channels_names]\n",
    "        values = np.append(values, mne_features.univariate.compute_zero_crossings(data))\n",
    "        data = np.diff(data)\n",
    "        \n",
    "    return feature_names, values"
   ]
  },
  {
   "cell_type": "code",
   "execution_count": 12,
   "metadata": {},
   "outputs": [],
   "source": [
    "def compute_features(X):\n",
    "    # X.shape -> (sfreq, num_channels)\n",
    "    # res.shape -> (sfreq, num_features)\n",
    "    \n",
    "    feature_names = []\n",
    "    result = np.array(())\n",
    "    \n",
    "    names, values = compute_gamma(X)\n",
    "    feature_names += names\n",
    "    result = np.append(result, values)\n",
    "    \n",
    "    names, values = compute_beta(X)\n",
    "    feature_names += names\n",
    "    result = np.append(result, values)\n",
    "    \n",
    "    names, values = compute_first_difference(X)\n",
    "    feature_names += names\n",
    "    result = np.append(result, values)\n",
    "    \n",
    "#     names, values = compute_bicoherence_band(X)\n",
    "#     feature_names += names\n",
    "#     result = np.append(result, values)\n",
    "    \n",
    "    names, values = compute_fractal_dimension(X)\n",
    "    feature_names += names\n",
    "    result = np.append(result, values)\n",
    "    \n",
    "    names, values = compute_hjorth(X)\n",
    "    feature_names += names\n",
    "    result = np.append(result, values)\n",
    "    \n",
    "    names, values = compute_HOC(X)\n",
    "    feature_names += names\n",
    "    result = np.append(result, values)\n",
    "    \n",
    "    return feature_names, result\n",
    "\n",
    "def compute_features_wrap(X):\n",
    "    feature_names, result = compute_features(X)\n",
    "    return result"
   ]
  },
  {
   "cell_type": "code",
   "execution_count": 13,
   "metadata": {},
   "outputs": [],
   "source": [
    "X = eeg[0]\n",
    "feature_names, result = compute_features(X)"
   ]
  },
  {
   "cell_type": "code",
   "execution_count": 14,
   "metadata": {},
   "outputs": [],
   "source": [
    "X = np.array(list(map(compute_features_wrap, eeg)))"
   ]
  },
  {
   "cell_type": "code",
   "execution_count": 15,
   "metadata": {},
   "outputs": [
    {
     "data": {
      "text/plain": [
       "(614, 93)"
      ]
     },
     "execution_count": 15,
     "metadata": {},
     "output_type": "execute_result"
    }
   ],
   "source": [
    "X.shape"
   ]
  },
  {
   "cell_type": "code",
   "execution_count": 20,
   "metadata": {},
   "outputs": [
    {
     "data": {
      "text/plain": [
       "93"
      ]
     },
     "execution_count": 20,
     "metadata": {},
     "output_type": "execute_result"
    }
   ],
   "source": [
    "len(feature_names)"
   ]
  },
  {
   "cell_type": "code",
   "execution_count": 119,
   "metadata": {},
   "outputs": [],
   "source": [
    "np.save('data_features.npy', X)"
   ]
  },
  {
   "cell_type": "code",
   "execution_count": 55,
   "metadata": {},
   "outputs": [
    {
     "data": {
      "text/plain": [
       "array([3., 6., 7., 8., 5.])"
      ]
     },
     "execution_count": 55,
     "metadata": {},
     "output_type": "execute_result"
    }
   ],
   "source": [
    "result = np.array(())\n",
    "result = np.append(result, [[[1,2,3]], [[4,5,6]], [[7,8,9]]])\n",
    "np.append(result, [[1,2,3]])\n",
    "gamma_channels_index = [2, 5, 6, 7, 4]\n",
    "result[gamma_channels_index]"
   ]
  },
  {
   "cell_type": "code",
   "execution_count": 75,
   "metadata": {},
   "outputs": [
    {
     "data": {
      "text/plain": [
       "array([[ 0,  8, 16],\n",
       "       [ 1,  9, 17],\n",
       "       [ 2, 10, 18],\n",
       "       [ 3, 11, 19],\n",
       "       [ 4, 12, 20],\n",
       "       [ 5, 13, 21],\n",
       "       [ 6, 14, 22],\n",
       "       [ 7, 15, 23]])"
      ]
     },
     "execution_count": 75,
     "metadata": {},
     "output_type": "execute_result"
    }
   ],
   "source": [
    "a = np.arange(24).reshape((3,8)).T\n",
    "a"
   ]
  },
  {
   "cell_type": "code",
   "execution_count": 147,
   "metadata": {},
   "outputs": [
    {
     "data": {
      "text/plain": [
       "array([[ 4, 12, 20],\n",
       "       [ 5, 13, 21]])"
      ]
     },
     "execution_count": 147,
     "metadata": {},
     "output_type": "execute_result"
    }
   ],
   "source": [
    "b = a.reshape((4,2,3))\n",
    "b[2, :,:]"
   ]
  },
  {
   "cell_type": "code",
   "execution_count": 158,
   "metadata": {},
   "outputs": [
    {
     "name": "stdout",
     "output_type": "stream",
     "text": [
      "[[ 0  8 16]\n",
      " [ 1  9 17]]\n",
      "[[ 2 10 18]\n",
      " [ 3 11 19]]\n",
      "[[ 4 12 20]\n",
      " [ 5 13 21]]\n",
      "[[ 6 14 22]\n",
      " [ 7 15 23]]\n"
     ]
    },
    {
     "data": {
      "text/plain": [
       "array([[ 1, 17],\n",
       "       [ 5, 21],\n",
       "       [ 9, 25],\n",
       "       [13, 29]])"
      ]
     },
     "execution_count": 158,
     "metadata": {},
     "output_type": "execute_result"
    }
   ],
   "source": [
    "def f(X):\n",
    "    print(X)\n",
    "    return np.sum(X[:, :2], axis=0)\n",
    "\n",
    "# vfunc = np.vectorize(f)\n",
    "np.array(list(map(f,b)))"
   ]
  },
  {
   "cell_type": "code",
   "execution_count": 60,
   "metadata": {},
   "outputs": [
    {
     "ename": "IndexError",
     "evalue": "arrays used as indices must be of integer (or boolean) type",
     "output_type": "error",
     "traceback": [
      "\u001b[0;31m---------------------------------------------------------------------------\u001b[0m",
      "\u001b[0;31mIndexError\u001b[0m                                Traceback (most recent call last)",
      "\u001b[0;32m<ipython-input-60-eabf318a973c>\u001b[0m in \u001b[0;36m<module>\u001b[0;34m\u001b[0m\n\u001b[1;32m      2\u001b[0m \u001b[0ms2\u001b[0m \u001b[0;34m=\u001b[0m \u001b[0mnp\u001b[0m\u001b[0;34m.\u001b[0m\u001b[0mrandom\u001b[0m\u001b[0;34m.\u001b[0m\u001b[0mrandom\u001b[0m\u001b[0;34m(\u001b[0m\u001b[0;36m30\u001b[0m\u001b[0;34m)\u001b[0m\u001b[0;34m\u001b[0m\u001b[0;34m\u001b[0m\u001b[0m\n\u001b[1;32m      3\u001b[0m \u001b[0mrate\u001b[0m \u001b[0;34m=\u001b[0m \u001b[0;36m30\u001b[0m\u001b[0;34m\u001b[0m\u001b[0;34m\u001b[0m\u001b[0m\n\u001b[0;32m----> 4\u001b[0;31m \u001b[0mfreqs\u001b[0m\u001b[0;34m,\u001b[0m \u001b[0mbicoh\u001b[0m \u001b[0;34m=\u001b[0m \u001b[0mcompute_bicoherence\u001b[0m\u001b[0;34m(\u001b[0m\u001b[0ms1\u001b[0m\u001b[0;34m,\u001b[0m \u001b[0ms2\u001b[0m\u001b[0;34m,\u001b[0m \u001b[0;36m30\u001b[0m\u001b[0;34m,\u001b[0m \u001b[0mnperseg\u001b[0m\u001b[0;34m=\u001b[0m\u001b[0;36m30\u001b[0m\u001b[0;34m,\u001b[0m \u001b[0mnoverlap\u001b[0m\u001b[0;34m=\u001b[0m\u001b[0;36m15\u001b[0m\u001b[0;34m)\u001b[0m\u001b[0;34m\u001b[0m\u001b[0;34m\u001b[0m\u001b[0m\n\u001b[0m",
      "\u001b[0;32m<ipython-input-50-e9d22366b308>\u001b[0m in \u001b[0;36mcompute_bicoherence\u001b[0;34m(s1, s2, rate, nperseg, noverlap)\u001b[0m\n\u001b[1;32m     17\u001b[0m     \u001b[0msumarg\u001b[0m \u001b[0;34m=\u001b[0m \u001b[0marg\u001b[0m\u001b[0;34m[\u001b[0m\u001b[0;34m:\u001b[0m\u001b[0;34m,\u001b[0m \u001b[0;32mNone\u001b[0m\u001b[0;34m]\u001b[0m \u001b[0;34m+\u001b[0m \u001b[0marg\u001b[0m\u001b[0;34m[\u001b[0m\u001b[0;32mNone\u001b[0m\u001b[0;34m,\u001b[0m \u001b[0;34m:\u001b[0m\u001b[0;34m]\u001b[0m\u001b[0;34m\u001b[0m\u001b[0;34m\u001b[0m\u001b[0m\n\u001b[1;32m     18\u001b[0m     num = numpy.abs(\n\u001b[0;32m---> 19\u001b[0;31m         numpy.mean(spec_s1[:, arg, None] * spec_s1[:, None, arg] * numpy.conjugate(spec_s2[:, sumarg]), \n\u001b[0m\u001b[1;32m     20\u001b[0m         axis = 0)\n\u001b[1;32m     21\u001b[0m         ) ** 2\n",
      "\u001b[0;31mIndexError\u001b[0m: arrays used as indices must be of integer (or boolean) type"
     ]
    }
   ],
   "source": [
    "s1 = np.random.random(30)\n",
    "s2 = np.random.random(30)\n",
    "rate = 30\n",
    "freqs, bicoh = compute_bicoherence(s1, s2, 30, nperseg=30, noverlap=15)"
   ]
  },
  {
   "cell_type": "code",
   "execution_count": 93,
   "metadata": {},
   "outputs": [],
   "source": [
    "s1 = np.random.random(30) * 2\n",
    "s2 = np.random.random(30)\n",
    "rate = 30\n",
    "nperseg=30\n",
    "noverlap=15\n",
    "\n",
    "f1, t1, spec_s1 = signal.spectrogram(s1, fs = rate, nperseg = nperseg, noverlap = noverlap, mode = 'complex',)\n",
    "f2, t2, spec_s2 = signal.spectrogram(s2, fs = rate, nperseg = nperseg, noverlap = noverlap, mode = 'complex')\n",
    "\n",
    "# transpose (f, t) -> (t, f)\n",
    "spec_s1 = np.transpose(spec_s1, [1, 0])\n",
    "spec_s2 = np.transpose(spec_s2, [1, 0])\n",
    "\n",
    "# compute the bicoherence\n",
    "arg = np.arange(f1.size / 2).astype('int')\n",
    "sumarg = arg[:, None] + arg[None, :]\n",
    "num = np.abs(\n",
    "    np.mean(spec_s1[:, arg, None] * spec_s1[:, None, arg] * np.conjugate(spec_s2[:, sumarg]), \n",
    "    axis = 0)\n",
    "    ) ** 2\n",
    "denum = np.mean(\n",
    "    np.abs(spec_s1[:, arg, None] * spec_s1[:, None, arg]) ** 2, axis = 0) * np.mean(\n",
    "        np.abs(np.conjugate(spec_s2[:, sumarg])) ** 2, \n",
    "        axis = 0)\n",
    "bicoh = num / denum"
   ]
  },
  {
   "cell_type": "code",
   "execution_count": 103,
   "metadata": {},
   "outputs": [
    {
     "data": {
      "text/plain": [
       "(8, 8)"
      ]
     },
     "execution_count": 103,
     "metadata": {},
     "output_type": "execute_result"
    }
   ],
   "source": [
    "sumarg.shape"
   ]
  },
  {
   "cell_type": "code",
   "execution_count": 114,
   "metadata": {},
   "outputs": [
    {
     "data": {
      "text/plain": [
       "array([[1., 1., 1., 1., 1., 1., 1., 1.],\n",
       "       [1., 1., 1., 1., 1., 1., 1., 1.],\n",
       "       [1., 1., 1., 1., 1., 1., 1., 1.],\n",
       "       [1., 1., 1., 1., 1., 1., 1., 1.],\n",
       "       [1., 1., 1., 1., 1., 1., 1., 1.],\n",
       "       [1., 1., 1., 1., 1., 1., 1., 1.],\n",
       "       [1., 1., 1., 1., 1., 1., 1., 1.],\n",
       "       [1., 1., 1., 1., 1., 1., 1., 1.]])"
      ]
     },
     "execution_count": 114,
     "metadata": {},
     "output_type": "execute_result"
    }
   ],
   "source": [
    "(np.ones(16))[sumarg]"
   ]
  },
  {
   "cell_type": "code",
   "execution_count": 111,
   "metadata": {},
   "outputs": [
    {
     "data": {
      "text/plain": [
       "array([[ 0,  1,  2,  3,  4,  5,  6,  7],\n",
       "       [ 1,  2,  3,  4,  5,  6,  7,  8],\n",
       "       [ 2,  3,  4,  5,  6,  7,  8,  9],\n",
       "       [ 3,  4,  5,  6,  7,  8,  9, 10],\n",
       "       [ 4,  5,  6,  7,  8,  9, 10, 11],\n",
       "       [ 5,  6,  7,  8,  9, 10, 11, 12],\n",
       "       [ 6,  7,  8,  9, 10, 11, 12, 13],\n",
       "       [ 7,  8,  9, 10, 11, 12, 13, 14]])"
      ]
     },
     "execution_count": 111,
     "metadata": {},
     "output_type": "execute_result"
    }
   ],
   "source": [
    "sumarg"
   ]
  },
  {
   "cell_type": "code",
   "execution_count": 120,
   "metadata": {},
   "outputs": [],
   "source": [
    "from scipy.signal import coherence\n",
    "fs = 10e3\n",
    "N = 1e5\n",
    "amp = 20\n",
    "freq = 1234.0\n",
    "noise_power = 0.001 * fs / 2\n",
    "time = np.arange(N) / fs\n",
    "b, a = signal.butter(2, 0.25, 'low')\n",
    "x = np.random.normal(scale=np.sqrt(noise_power), size=time.shape)\n",
    "y = signal.lfilter(b, a, x)\n",
    "x += amp*np.sin(2*np.pi*freq*time)\n",
    "y += np.random.normal(scale=0.1*np.sqrt(noise_power), size=time.shape)"
   ]
  },
  {
   "cell_type": "code",
   "execution_count": 121,
   "metadata": {},
   "outputs": [
    {
     "data": {
      "image/png": "[encoded data removed]",
      "text/plain": [
       "<Figure size 432x288 with 1 Axes>"
      ]
     },
     "metadata": {
      "needs_background": "light"
     },
     "output_type": "display_data"
    }
   ],
   "source": [
    "f, Cxy = signal.coherence(x, y, fs, nperseg=1024)\n",
    "plt.semilogy(f, Cxy)\n",
    "plt.xlabel('frequency [Hz]')\n",
    "plt.ylabel('Coherence')\n",
    "plt.show()"
   ]
  },
  {
   "cell_type": "code",
   "execution_count": 145,
   "metadata": {},
   "outputs": [
    {
     "data": {
      "image/png": "[encoded data removed]",
      "text/plain": [
       "<Figure size 432x288 with 2 Axes>"
      ]
     },
     "metadata": {
      "needs_background": "light"
     },
     "output_type": "display_data"
    }
   ],
   "source": [
    "freq, bic, bis = compute_bicoherence(x, x, fs)\n",
    "\n",
    "# f = plt.figure(figsize = (9, 9))\n",
    "plt.pcolormesh(freq, freq, bic)\n",
    "plt.colorbar()\n",
    "plt.clim(0, 0.1)\n",
    "plt.show()"
   ]
  },
  {
   "cell_type": "code",
   "execution_count": 142,
   "metadata": {},
   "outputs": [
    {
     "data": {
      "text/plain": [
       "(257, 257)"
      ]
     },
     "execution_count": 142,
     "metadata": {},
     "output_type": "execute_result"
    }
   ],
   "source": [
    "bis.shape"
   ]
  },
  {
   "cell_type": "code",
   "execution_count": null,
   "metadata": {},
   "outputs": [],
   "source": []
  }
 ],
 "metadata": {
  "kernelspec": {
   "display_name": "Python 3",
   "language": "python",
   "name": "python3"
  },
  "language_info": {
   "codemirror_mode": {
    "name": "ipython",
    "version": 3
   },
   "file_extension": ".py",
   "mimetype": "text/x-python",
   "name": "python",
   "nbconvert_exporter": "python",
   "pygments_lexer": "ipython3",
   "version": "3.8.2"
  }
 },
 "nbformat": 4,
 "nbformat_minor": 4
}
